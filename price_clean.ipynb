{
 "cells": [
  {
   "cell_type": "code",
   "execution_count": 1,
   "id": "9cc0354c-95d6-4c41-82eb-715ef947b828",
   "metadata": {},
   "outputs": [],
   "source": [
    "import random\n",
    "import numpy as np\n",
    "import pandas as pd\n",
    "import matplotlib.pyplot as plt"
   ]
  },
  {
   "cell_type": "code",
   "execution_count": 2,
   "id": "6b4fa5ec-eeb2-4ba1-96a1-4c6ce42f936d",
   "metadata": {},
   "outputs": [],
   "source": [
    "# Reload local python files every 2 seconds\n",
    "%load_ext autoreload\n",
    "%autoreload 2"
   ]
  },
  {
   "cell_type": "code",
   "execution_count": 3,
   "id": "e059743d-992d-4d66-8aeb-5bcee91ce0bc",
   "metadata": {},
   "outputs": [],
   "source": [
    "# Set random seed\n",
    "RANDOM_STATE = 1234\n",
    "random.seed(RANDOM_STATE)\n",
    "np.random.seed(RANDOM_STATE)"
   ]
  },
  {
   "cell_type": "markdown",
   "id": "9f0f37ce-e9bc-4917-81ef-100ec1378c2b",
   "metadata": {},
   "source": [
    "## Import dataset and check info"
   ]
  },
  {
   "cell_type": "code",
   "execution_count": 4,
   "id": "61606129-d610-4979-b8e6-7cd47dc07522",
   "metadata": {},
   "outputs": [
    {
     "name": "stdout",
     "output_type": "stream",
     "text": [
      "<class 'pandas.core.frame.DataFrame'>\n",
      "RangeIndex: 10000 entries, 0 to 9999\n",
      "Data columns (total 2 columns):\n",
      " #   Column           Non-Null Count  Dtype \n",
      "---  ------           --------------  ----- \n",
      " 0   NFT_Name         10000 non-null  int64 \n",
      " 1   Last_Sale_Price  8776 non-null   object\n",
      "dtypes: int64(1), object(1)\n",
      "memory usage: 156.4+ KB\n"
     ]
    }
   ],
   "source": [
    "# import dataset\n",
    "df = pd.read_csv('Last_Sale_Price.csv')\n",
    "# check info\n",
    "df.info()"
   ]
  },
  {
   "cell_type": "code",
   "execution_count": 5,
   "id": "6185e61e-0cc9-4fed-88e5-653f26758108",
   "metadata": {},
   "outputs": [
    {
     "data": {
      "text/plain": [
       "NFT_Name              0\n",
       "Last_Sale_Price    1224\n",
       "dtype: int64"
      ]
     },
     "execution_count": 5,
     "metadata": {},
     "output_type": "execute_result"
    }
   ],
   "source": [
    "# check the number of NA\n",
    "df.isnull().sum()"
   ]
  },
  {
   "cell_type": "markdown",
   "id": "9abb1af6-b6b8-48af-b92d-a24568200612",
   "metadata": {},
   "source": [
    "## Drop NA rows and split Last_Sale_Price"
   ]
  },
  {
   "cell_type": "code",
   "execution_count": 6,
   "id": "2ea5abf1-4062-477e-87a7-925b199127b3",
   "metadata": {},
   "outputs": [],
   "source": [
    "# drop all rows that have NaN values\n",
    "df.dropna(axis=0, how='any', inplace=True)"
   ]
  },
  {
   "cell_type": "code",
   "execution_count": 7,
   "id": "c04ed6c2-0167-43b3-85af-0516445a6db2",
   "metadata": {},
   "outputs": [],
   "source": [
    "# split Last_Sale_Price to Price and Currency\n",
    "df['Price'] = df['Last_Sale_Price'].map(lambda x:x. split(' ')[0])\n",
    "df['Currency'] = df['Last_Sale_Price'].map(lambda x:x. split(' ')[1])\n",
    "# convert data type to float\n",
    "df['Price'] = df['Price'].str.replace(',', '').astype(float)\n",
    "# remove Last_Sale_Price column\n",
    "df.drop(['Last_Sale_Price'], axis=1, inplace=True)"
   ]
  },
  {
   "cell_type": "markdown",
   "id": "4d9201d6-ef9b-4097-b430-a367ccdbe6ce",
   "metadata": {},
   "source": [
    "## Check currency unit and unify"
   ]
  },
  {
   "cell_type": "code",
   "execution_count": 8,
   "id": "04f09294-aac2-437d-bac7-d54478a27b3d",
   "metadata": {},
   "outputs": [
    {
     "data": {
      "text/plain": [
       "ETH     7573\n",
       "WETH    1194\n",
       "USDC       8\n",
       "DAI        1\n",
       "Name: Currency, dtype: int64"
      ]
     },
     "execution_count": 8,
     "metadata": {},
     "output_type": "execute_result"
    }
   ],
   "source": [
    "# check and count the currency unit\n",
    "df['Currency'].value_counts()"
   ]
  },
  {
   "cell_type": "code",
   "execution_count": 9,
   "id": "4656b1ac-c34e-4370-8aca-ffbad29605d4",
   "metadata": {},
   "outputs": [],
   "source": [
    "# unify the currency unit\n",
    "df[\"Currency\"].replace(\"WETH\", \"ETH\", inplace=True)"
   ]
  },
  {
   "cell_type": "code",
   "execution_count": 10,
   "id": "341c3d54-0353-4b77-ad1f-00c425a7fe68",
   "metadata": {},
   "outputs": [
    {
     "data": {
      "text/html": [
       "<div>\n",
       "<style scoped>\n",
       "    .dataframe tbody tr th:only-of-type {\n",
       "        vertical-align: middle;\n",
       "    }\n",
       "\n",
       "    .dataframe tbody tr th {\n",
       "        vertical-align: top;\n",
       "    }\n",
       "\n",
       "    .dataframe thead th {\n",
       "        text-align: right;\n",
       "    }\n",
       "</style>\n",
       "<table border=\"1\" class=\"dataframe\">\n",
       "  <thead>\n",
       "    <tr style=\"text-align: right;\">\n",
       "      <th></th>\n",
       "      <th>NFT_Name</th>\n",
       "      <th>Price</th>\n",
       "      <th>Currency</th>\n",
       "    </tr>\n",
       "  </thead>\n",
       "  <tbody>\n",
       "    <tr>\n",
       "      <th>835</th>\n",
       "      <td>835</td>\n",
       "      <td>115.0</td>\n",
       "      <td>DAI</td>\n",
       "    </tr>\n",
       "  </tbody>\n",
       "</table>\n",
       "</div>"
      ],
      "text/plain": [
       "     NFT_Name  Price Currency\n",
       "835       835  115.0      DAI"
      ]
     },
     "execution_count": 10,
     "metadata": {},
     "output_type": "execute_result"
    }
   ],
   "source": [
    "# check the values of different currency unit\n",
    "index_DAI = df[df.Currency == \"DAI\"].index.tolist()\n",
    "df.loc[index_DAI]"
   ]
  },
  {
   "cell_type": "code",
   "execution_count": 11,
   "id": "784744fd-5a50-481f-87c8-44b0c6d633df",
   "metadata": {},
   "outputs": [
    {
     "data": {
      "text/html": [
       "<div>\n",
       "<style scoped>\n",
       "    .dataframe tbody tr th:only-of-type {\n",
       "        vertical-align: middle;\n",
       "    }\n",
       "\n",
       "    .dataframe tbody tr th {\n",
       "        vertical-align: top;\n",
       "    }\n",
       "\n",
       "    .dataframe thead th {\n",
       "        text-align: right;\n",
       "    }\n",
       "</style>\n",
       "<table border=\"1\" class=\"dataframe\">\n",
       "  <thead>\n",
       "    <tr style=\"text-align: right;\">\n",
       "      <th></th>\n",
       "      <th>NFT_Name</th>\n",
       "      <th>Price</th>\n",
       "      <th>Currency</th>\n",
       "    </tr>\n",
       "  </thead>\n",
       "  <tbody>\n",
       "    <tr>\n",
       "      <th>835</th>\n",
       "      <td>835</td>\n",
       "      <td>0.0621</td>\n",
       "      <td>ETH</td>\n",
       "    </tr>\n",
       "  </tbody>\n",
       "</table>\n",
       "</div>"
      ],
      "text/plain": [
       "     NFT_Name   Price Currency\n",
       "835       835  0.0621      ETH"
      ]
     },
     "execution_count": 11,
     "metadata": {},
     "output_type": "execute_result"
    }
   ],
   "source": [
    "# exchange\n",
    "df.loc[835, 'Price'] = round(df.loc[835, 'Price'] * 0.00054, 4)\n",
    "df[\"Currency\"].replace(\"DAI\", \"ETH\", inplace=True)\n",
    "df.loc[index_DAI]"
   ]
  },
  {
   "cell_type": "code",
   "execution_count": 12,
   "id": "3116f153-5afa-4b31-914f-a2667e74df78",
   "metadata": {},
   "outputs": [
    {
     "data": {
      "text/html": [
       "<div>\n",
       "<style scoped>\n",
       "    .dataframe tbody tr th:only-of-type {\n",
       "        vertical-align: middle;\n",
       "    }\n",
       "\n",
       "    .dataframe tbody tr th {\n",
       "        vertical-align: top;\n",
       "    }\n",
       "\n",
       "    .dataframe thead th {\n",
       "        text-align: right;\n",
       "    }\n",
       "</style>\n",
       "<table border=\"1\" class=\"dataframe\">\n",
       "  <thead>\n",
       "    <tr style=\"text-align: right;\">\n",
       "      <th></th>\n",
       "      <th>NFT_Name</th>\n",
       "      <th>Price</th>\n",
       "      <th>Currency</th>\n",
       "    </tr>\n",
       "  </thead>\n",
       "  <tbody>\n",
       "    <tr>\n",
       "      <th>2850</th>\n",
       "      <td>2850</td>\n",
       "      <td>112000.0</td>\n",
       "      <td>USDC</td>\n",
       "    </tr>\n",
       "    <tr>\n",
       "      <th>3868</th>\n",
       "      <td>3868</td>\n",
       "      <td>105500.0</td>\n",
       "      <td>USDC</td>\n",
       "    </tr>\n",
       "    <tr>\n",
       "      <th>4037</th>\n",
       "      <td>4037</td>\n",
       "      <td>150000.0</td>\n",
       "      <td>USDC</td>\n",
       "    </tr>\n",
       "    <tr>\n",
       "      <th>4217</th>\n",
       "      <td>4217</td>\n",
       "      <td>125000.0</td>\n",
       "      <td>USDC</td>\n",
       "    </tr>\n",
       "    <tr>\n",
       "      <th>4786</th>\n",
       "      <td>4786</td>\n",
       "      <td>150000.0</td>\n",
       "      <td>USDC</td>\n",
       "    </tr>\n",
       "    <tr>\n",
       "      <th>4916</th>\n",
       "      <td>4916</td>\n",
       "      <td>139269.0</td>\n",
       "      <td>USDC</td>\n",
       "    </tr>\n",
       "    <tr>\n",
       "      <th>6462</th>\n",
       "      <td>6462</td>\n",
       "      <td>200.0</td>\n",
       "      <td>USDC</td>\n",
       "    </tr>\n",
       "    <tr>\n",
       "      <th>7593</th>\n",
       "      <td>7593</td>\n",
       "      <td>177777.0</td>\n",
       "      <td>USDC</td>\n",
       "    </tr>\n",
       "  </tbody>\n",
       "</table>\n",
       "</div>"
      ],
      "text/plain": [
       "      NFT_Name     Price Currency\n",
       "2850      2850  112000.0     USDC\n",
       "3868      3868  105500.0     USDC\n",
       "4037      4037  150000.0     USDC\n",
       "4217      4217  125000.0     USDC\n",
       "4786      4786  150000.0     USDC\n",
       "4916      4916  139269.0     USDC\n",
       "6462      6462     200.0     USDC\n",
       "7593      7593  177777.0     USDC"
      ]
     },
     "execution_count": 12,
     "metadata": {},
     "output_type": "execute_result"
    }
   ],
   "source": [
    "# check the values of different currency unit\n",
    "index_USDC = df[df.Currency == \"USDC\"].index.tolist()\n",
    "df.loc[index_USDC]"
   ]
  },
  {
   "cell_type": "code",
   "execution_count": 13,
   "id": "eb209fd5-3c8b-4fc9-aafe-0ed5b399e6c9",
   "metadata": {},
   "outputs": [
    {
     "data": {
      "text/html": [
       "<div>\n",
       "<style scoped>\n",
       "    .dataframe tbody tr th:only-of-type {\n",
       "        vertical-align: middle;\n",
       "    }\n",
       "\n",
       "    .dataframe tbody tr th {\n",
       "        vertical-align: top;\n",
       "    }\n",
       "\n",
       "    .dataframe thead th {\n",
       "        text-align: right;\n",
       "    }\n",
       "</style>\n",
       "<table border=\"1\" class=\"dataframe\">\n",
       "  <thead>\n",
       "    <tr style=\"text-align: right;\">\n",
       "      <th></th>\n",
       "      <th>NFT_Name</th>\n",
       "      <th>Price</th>\n",
       "      <th>Currency</th>\n",
       "    </tr>\n",
       "  </thead>\n",
       "  <tbody>\n",
       "    <tr>\n",
       "      <th>2850</th>\n",
       "      <td>2850</td>\n",
       "      <td>60.4800</td>\n",
       "      <td>ETH</td>\n",
       "    </tr>\n",
       "    <tr>\n",
       "      <th>3868</th>\n",
       "      <td>3868</td>\n",
       "      <td>56.9700</td>\n",
       "      <td>ETH</td>\n",
       "    </tr>\n",
       "    <tr>\n",
       "      <th>4037</th>\n",
       "      <td>4037</td>\n",
       "      <td>81.0000</td>\n",
       "      <td>ETH</td>\n",
       "    </tr>\n",
       "    <tr>\n",
       "      <th>4217</th>\n",
       "      <td>4217</td>\n",
       "      <td>67.5000</td>\n",
       "      <td>ETH</td>\n",
       "    </tr>\n",
       "    <tr>\n",
       "      <th>4786</th>\n",
       "      <td>4786</td>\n",
       "      <td>81.0000</td>\n",
       "      <td>ETH</td>\n",
       "    </tr>\n",
       "    <tr>\n",
       "      <th>4916</th>\n",
       "      <td>4916</td>\n",
       "      <td>75.2053</td>\n",
       "      <td>ETH</td>\n",
       "    </tr>\n",
       "    <tr>\n",
       "      <th>6462</th>\n",
       "      <td>6462</td>\n",
       "      <td>0.1080</td>\n",
       "      <td>ETH</td>\n",
       "    </tr>\n",
       "    <tr>\n",
       "      <th>7593</th>\n",
       "      <td>7593</td>\n",
       "      <td>95.9996</td>\n",
       "      <td>ETH</td>\n",
       "    </tr>\n",
       "  </tbody>\n",
       "</table>\n",
       "</div>"
      ],
      "text/plain": [
       "      NFT_Name    Price Currency\n",
       "2850      2850  60.4800      ETH\n",
       "3868      3868  56.9700      ETH\n",
       "4037      4037  81.0000      ETH\n",
       "4217      4217  67.5000      ETH\n",
       "4786      4786  81.0000      ETH\n",
       "4916      4916  75.2053      ETH\n",
       "6462      6462   0.1080      ETH\n",
       "7593      7593  95.9996      ETH"
      ]
     },
     "execution_count": 13,
     "metadata": {},
     "output_type": "execute_result"
    }
   ],
   "source": [
    "# exchange\n",
    "for i in index_USDC:\n",
    "    df.loc[i, 'Price'] = round(df.loc[i, 'Price'] * 0.00054, 4)\n",
    "df[\"Currency\"].replace(\"USDC\", \"ETH\", inplace=True)\n",
    "df.loc[index_USDC]"
   ]
  },
  {
   "cell_type": "code",
   "execution_count": 14,
   "id": "9089ca3a-5b41-4fe7-9700-a8418947fe34",
   "metadata": {},
   "outputs": [
    {
     "data": {
      "text/plain": [
       "ETH    8776\n",
       "Name: Currency, dtype: int64"
      ]
     },
     "execution_count": 14,
     "metadata": {},
     "output_type": "execute_result"
    }
   ],
   "source": [
    "# double check and count the currency unit\n",
    "df['Currency'].value_counts()"
   ]
  },
  {
   "cell_type": "markdown",
   "id": "aa16144c-d0f4-4f18-a450-4b616773e1ee",
   "metadata": {},
   "source": [
    "## Check extreme values and fix them"
   ]
  },
  {
   "cell_type": "code",
   "execution_count": 15,
   "id": "c48c18ff-c74a-4d5e-9bb7-183497fec555",
   "metadata": {},
   "outputs": [],
   "source": [
    "# sort\n",
    "df.sort_values(by=['Price', 'NFT_Name'], inplace=True)"
   ]
  },
  {
   "cell_type": "code",
   "execution_count": 16,
   "id": "a0245296-34fe-484d-81e8-d08b35eefd88",
   "metadata": {},
   "outputs": [
    {
     "data": {
      "text/html": [
       "<div>\n",
       "<style scoped>\n",
       "    .dataframe tbody tr th:only-of-type {\n",
       "        vertical-align: middle;\n",
       "    }\n",
       "\n",
       "    .dataframe tbody tr th {\n",
       "        vertical-align: top;\n",
       "    }\n",
       "\n",
       "    .dataframe thead th {\n",
       "        text-align: right;\n",
       "    }\n",
       "</style>\n",
       "<table border=\"1\" class=\"dataframe\">\n",
       "  <thead>\n",
       "    <tr style=\"text-align: right;\">\n",
       "      <th></th>\n",
       "      <th>NFT_Name</th>\n",
       "      <th>Price</th>\n",
       "      <th>Currency</th>\n",
       "    </tr>\n",
       "  </thead>\n",
       "  <tbody>\n",
       "    <tr>\n",
       "      <th>7537</th>\n",
       "      <td>7537</td>\n",
       "      <td>1024.00</td>\n",
       "      <td>ETH</td>\n",
       "    </tr>\n",
       "    <tr>\n",
       "      <th>232</th>\n",
       "      <td>232</td>\n",
       "      <td>1080.69</td>\n",
       "      <td>ETH</td>\n",
       "    </tr>\n",
       "    <tr>\n",
       "      <th>3217</th>\n",
       "      <td>3217</td>\n",
       "      <td>36969.00</td>\n",
       "      <td>ETH</td>\n",
       "    </tr>\n",
       "    <tr>\n",
       "      <th>4256</th>\n",
       "      <td>4256</td>\n",
       "      <td>38000.00</td>\n",
       "      <td>ETH</td>\n",
       "    </tr>\n",
       "  </tbody>\n",
       "</table>\n",
       "</div>"
      ],
      "text/plain": [
       "      NFT_Name     Price Currency\n",
       "7537      7537   1024.00      ETH\n",
       "232        232   1080.69      ETH\n",
       "3217      3217  36969.00      ETH\n",
       "4256      4256  38000.00      ETH"
      ]
     },
     "execution_count": 16,
     "metadata": {},
     "output_type": "execute_result"
    }
   ],
   "source": [
    "# check the extremely high price and fix them\n",
    "index_ex_high = df[df.Price > 1000].index.tolist()\n",
    "df.loc[index_ex_high]"
   ]
  },
  {
   "cell_type": "code",
   "execution_count": 17,
   "id": "c0789e29-6a71-4d9d-9b88-602e9cb032e1",
   "metadata": {},
   "outputs": [
    {
     "data": {
      "text/html": [
       "<div>\n",
       "<style scoped>\n",
       "    .dataframe tbody tr th:only-of-type {\n",
       "        vertical-align: middle;\n",
       "    }\n",
       "\n",
       "    .dataframe tbody tr th {\n",
       "        vertical-align: top;\n",
       "    }\n",
       "\n",
       "    .dataframe thead th {\n",
       "        text-align: right;\n",
       "    }\n",
       "</style>\n",
       "<table border=\"1\" class=\"dataframe\">\n",
       "  <thead>\n",
       "    <tr style=\"text-align: right;\">\n",
       "      <th></th>\n",
       "      <th>NFT_Name</th>\n",
       "      <th>Price</th>\n",
       "      <th>Currency</th>\n",
       "    </tr>\n",
       "  </thead>\n",
       "  <tbody>\n",
       "    <tr>\n",
       "      <th>7537</th>\n",
       "      <td>7537</td>\n",
       "      <td>1024.0</td>\n",
       "      <td>ETH</td>\n",
       "    </tr>\n",
       "  </tbody>\n",
       "</table>\n",
       "</div>"
      ],
      "text/plain": [
       "      NFT_Name   Price Currency\n",
       "7537      7537  1024.0      ETH"
      ]
     },
     "execution_count": 17,
     "metadata": {},
     "output_type": "execute_result"
    }
   ],
   "source": [
    "# fix by hand\n",
    "df.drop([232], axis=0, inplace=True)\n",
    "df.loc[3217, 'Price'] = round(df.loc[3217, 'Price'] * 0.003344, 4)\n",
    "df.loc[4256, 'Price'] = round(df.loc[4256, 'Price'] * 0.003344, 4)\n",
    "# check again\n",
    "index_ex_high = df[df.Price > 1000].index.tolist()\n",
    "df.loc[index_ex_high]"
   ]
  },
  {
   "cell_type": "code",
   "execution_count": 18,
   "id": "5499d630-2268-4346-a397-5e07fb492e35",
   "metadata": {},
   "outputs": [
    {
     "data": {
      "text/html": [
       "<div>\n",
       "<style scoped>\n",
       "    .dataframe tbody tr th:only-of-type {\n",
       "        vertical-align: middle;\n",
       "    }\n",
       "\n",
       "    .dataframe tbody tr th {\n",
       "        vertical-align: top;\n",
       "    }\n",
       "\n",
       "    .dataframe thead th {\n",
       "        text-align: right;\n",
       "    }\n",
       "</style>\n",
       "<table border=\"1\" class=\"dataframe\">\n",
       "  <thead>\n",
       "    <tr style=\"text-align: right;\">\n",
       "      <th></th>\n",
       "      <th>NFT_Name</th>\n",
       "      <th>Price</th>\n",
       "      <th>Currency</th>\n",
       "    </tr>\n",
       "  </thead>\n",
       "  <tbody>\n",
       "    <tr>\n",
       "      <th>225</th>\n",
       "      <td>225</td>\n",
       "      <td>0.000000</td>\n",
       "      <td>ETH</td>\n",
       "    </tr>\n",
       "    <tr>\n",
       "      <th>1904</th>\n",
       "      <td>1904</td>\n",
       "      <td>0.000000</td>\n",
       "      <td>ETH</td>\n",
       "    </tr>\n",
       "    <tr>\n",
       "      <th>4008</th>\n",
       "      <td>4008</td>\n",
       "      <td>0.000000</td>\n",
       "      <td>ETH</td>\n",
       "    </tr>\n",
       "    <tr>\n",
       "      <th>4572</th>\n",
       "      <td>4572</td>\n",
       "      <td>0.000000</td>\n",
       "      <td>ETH</td>\n",
       "    </tr>\n",
       "    <tr>\n",
       "      <th>4771</th>\n",
       "      <td>4771</td>\n",
       "      <td>0.000000</td>\n",
       "      <td>ETH</td>\n",
       "    </tr>\n",
       "    <tr>\n",
       "      <th>5353</th>\n",
       "      <td>5353</td>\n",
       "      <td>0.000000</td>\n",
       "      <td>ETH</td>\n",
       "    </tr>\n",
       "    <tr>\n",
       "      <th>6824</th>\n",
       "      <td>6824</td>\n",
       "      <td>0.000000</td>\n",
       "      <td>ETH</td>\n",
       "    </tr>\n",
       "    <tr>\n",
       "      <th>7398</th>\n",
       "      <td>7398</td>\n",
       "      <td>0.000000</td>\n",
       "      <td>ETH</td>\n",
       "    </tr>\n",
       "    <tr>\n",
       "      <th>7856</th>\n",
       "      <td>7856</td>\n",
       "      <td>0.000000</td>\n",
       "      <td>ETH</td>\n",
       "    </tr>\n",
       "    <tr>\n",
       "      <th>8179</th>\n",
       "      <td>8179</td>\n",
       "      <td>0.000000</td>\n",
       "      <td>ETH</td>\n",
       "    </tr>\n",
       "    <tr>\n",
       "      <th>8592</th>\n",
       "      <td>8592</td>\n",
       "      <td>0.000000</td>\n",
       "      <td>ETH</td>\n",
       "    </tr>\n",
       "    <tr>\n",
       "      <th>8698</th>\n",
       "      <td>8698</td>\n",
       "      <td>0.000000</td>\n",
       "      <td>ETH</td>\n",
       "    </tr>\n",
       "    <tr>\n",
       "      <th>18</th>\n",
       "      <td>18</td>\n",
       "      <td>0.000100</td>\n",
       "      <td>ETH</td>\n",
       "    </tr>\n",
       "    <tr>\n",
       "      <th>1565</th>\n",
       "      <td>1565</td>\n",
       "      <td>0.000100</td>\n",
       "      <td>ETH</td>\n",
       "    </tr>\n",
       "    <tr>\n",
       "      <th>3159</th>\n",
       "      <td>3159</td>\n",
       "      <td>0.000100</td>\n",
       "      <td>ETH</td>\n",
       "    </tr>\n",
       "    <tr>\n",
       "      <th>3411</th>\n",
       "      <td>3411</td>\n",
       "      <td>0.000100</td>\n",
       "      <td>ETH</td>\n",
       "    </tr>\n",
       "    <tr>\n",
       "      <th>5053</th>\n",
       "      <td>5053</td>\n",
       "      <td>0.000100</td>\n",
       "      <td>ETH</td>\n",
       "    </tr>\n",
       "    <tr>\n",
       "      <th>5560</th>\n",
       "      <td>5560</td>\n",
       "      <td>0.000100</td>\n",
       "      <td>ETH</td>\n",
       "    </tr>\n",
       "    <tr>\n",
       "      <th>4812</th>\n",
       "      <td>4812</td>\n",
       "      <td>0.000500</td>\n",
       "      <td>ETH</td>\n",
       "    </tr>\n",
       "    <tr>\n",
       "      <th>5717</th>\n",
       "      <td>5717</td>\n",
       "      <td>0.002500</td>\n",
       "      <td>ETH</td>\n",
       "    </tr>\n",
       "    <tr>\n",
       "      <th>8547</th>\n",
       "      <td>8547</td>\n",
       "      <td>0.002500</td>\n",
       "      <td>ETH</td>\n",
       "    </tr>\n",
       "    <tr>\n",
       "      <th>8286</th>\n",
       "      <td>8286</td>\n",
       "      <td>0.004200</td>\n",
       "      <td>ETH</td>\n",
       "    </tr>\n",
       "    <tr>\n",
       "      <th>6452</th>\n",
       "      <td>6452</td>\n",
       "      <td>0.005432</td>\n",
       "      <td>ETH</td>\n",
       "    </tr>\n",
       "  </tbody>\n",
       "</table>\n",
       "</div>"
      ],
      "text/plain": [
       "      NFT_Name     Price Currency\n",
       "225        225  0.000000      ETH\n",
       "1904      1904  0.000000      ETH\n",
       "4008      4008  0.000000      ETH\n",
       "4572      4572  0.000000      ETH\n",
       "4771      4771  0.000000      ETH\n",
       "5353      5353  0.000000      ETH\n",
       "6824      6824  0.000000      ETH\n",
       "7398      7398  0.000000      ETH\n",
       "7856      7856  0.000000      ETH\n",
       "8179      8179  0.000000      ETH\n",
       "8592      8592  0.000000      ETH\n",
       "8698      8698  0.000000      ETH\n",
       "18          18  0.000100      ETH\n",
       "1565      1565  0.000100      ETH\n",
       "3159      3159  0.000100      ETH\n",
       "3411      3411  0.000100      ETH\n",
       "5053      5053  0.000100      ETH\n",
       "5560      5560  0.000100      ETH\n",
       "4812      4812  0.000500      ETH\n",
       "5717      5717  0.002500      ETH\n",
       "8547      8547  0.002500      ETH\n",
       "8286      8286  0.004200      ETH\n",
       "6452      6452  0.005432      ETH"
      ]
     },
     "execution_count": 18,
     "metadata": {},
     "output_type": "execute_result"
    }
   ],
   "source": [
    "# check the extremely low price and fix them\n",
    "index_ex_low = df[df.Price < 0.01].index.tolist()\n",
    "df.loc[index_ex_low]"
   ]
  },
  {
   "cell_type": "code",
   "execution_count": 19,
   "id": "7cf6ad8e-0e5c-4736-841f-b06913348d5b",
   "metadata": {},
   "outputs": [
    {
     "data": {
      "text/html": [
       "<div>\n",
       "<style scoped>\n",
       "    .dataframe tbody tr th:only-of-type {\n",
       "        vertical-align: middle;\n",
       "    }\n",
       "\n",
       "    .dataframe tbody tr th {\n",
       "        vertical-align: top;\n",
       "    }\n",
       "\n",
       "    .dataframe thead th {\n",
       "        text-align: right;\n",
       "    }\n",
       "</style>\n",
       "<table border=\"1\" class=\"dataframe\">\n",
       "  <thead>\n",
       "    <tr style=\"text-align: right;\">\n",
       "      <th></th>\n",
       "      <th>NFT_Name</th>\n",
       "      <th>Price</th>\n",
       "      <th>Currency</th>\n",
       "    </tr>\n",
       "  </thead>\n",
       "  <tbody>\n",
       "  </tbody>\n",
       "</table>\n",
       "</div>"
      ],
      "text/plain": [
       "Empty DataFrame\n",
       "Columns: [NFT_Name, Price, Currency]\n",
       "Index: []"
      ]
     },
     "execution_count": 19,
     "metadata": {},
     "output_type": "execute_result"
    }
   ],
   "source": [
    "# fix by hand\n",
    "df.drop([225], axis=0, inplace=True)\n",
    "df.loc[1904, 'Price'] = 3.3\n",
    "df.loc[4008, 'Price'] = 38.2\n",
    "df.loc[4572, 'Price'] = 9\n",
    "df.loc[4771, 'Price'] = 0.35\n",
    "df.loc[5353, 'Price'] = 85\n",
    "df.loc[6824, 'Price'] = 0.32\n",
    "df.loc[7398, 'Price'] = 6.1\n",
    "df.loc[7856, 'Price'] = 3.4453\n",
    "df.loc[8179, 'Price'] = 0.44\n",
    "df.loc[8592, 'Price'] = 12.75\n",
    "df.loc[8698, 'Price'] = 0.75\n",
    "df.loc[18, 'Price'] = 18\n",
    "df.loc[1565, 'Price'] = 6\n",
    "df.loc[3159, 'Price'] = 10\n",
    "df.loc[3411, 'Price'] = 9\n",
    "df.loc[5053, 'Price'] = 4.5\n",
    "df.loc[5560, 'Price'] = 4.5\n",
    "df.loc[4812, 'Price'] = 8.5\n",
    "df.loc[5717, 'Price'] = 1\n",
    "df.loc[8547, 'Price'] = 0.72\n",
    "df.loc[8286, 'Price'] = 4.99\n",
    "df.loc[6452, 'Price'] = 52.69\n",
    "# check again\n",
    "index_ex_low = df[df.Price < 0.01].index.tolist()\n",
    "df.loc[index_ex_low]"
   ]
  },
  {
   "cell_type": "code",
   "execution_count": 20,
   "id": "875819ff-b76e-4385-a011-894d403a0f2c",
   "metadata": {},
   "outputs": [],
   "source": [
    "df.to_csv(\"price_cleaned.csv\", index=False)"
   ]
  }
 ],
 "metadata": {
  "kernelspec": {
   "display_name": "Python 3 (ipykernel)",
   "language": "python",
   "name": "python3"
  },
  "language_info": {
   "codemirror_mode": {
    "name": "ipython",
    "version": 3
   },
   "file_extension": ".py",
   "mimetype": "text/x-python",
   "name": "python",
   "nbconvert_exporter": "python",
   "pygments_lexer": "ipython3",
   "version": "3.10.4"
  }
 },
 "nbformat": 4,
 "nbformat_minor": 5
}
